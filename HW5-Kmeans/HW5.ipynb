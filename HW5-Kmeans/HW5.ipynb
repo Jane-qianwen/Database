{
 "cells": [
  {
   "cell_type": "markdown",
   "metadata": {},
   "source": [
    "# Setup"
   ]
  },
  {
   "cell_type": "markdown",
   "metadata": {},
   "source": [
    "Let's import and initialize Spark, along with all the other libraries we're using (this might take a while)."
   ]
  },
  {
   "cell_type": "code",
   "execution_count": 1,
   "metadata": {
    "scrolled": true
   },
   "outputs": [
    {
     "name": "stdout",
     "output_type": "stream",
     "text": [
      "Downloading Spark\n",
      "Extracting Spark\n",
      "Populating the interactive namespace from numpy and matplotlib\n"
     ]
    },
    {
     "ename": "ValueError",
     "evalue": "Unrecognized backend string \"nbagg\": valid strings are ['pdf', 'pgf', 'Qt4Agg', 'GTK', 'GTKAgg', 'ps', 'agg', 'cairo', 'MacOSX', 'GTKCairo', 'WXAgg', 'template', 'TkAgg', 'GTK3Cairo', 'GTK3Agg', 'svg', 'WebAgg', 'CocoaAgg', 'emf', 'gdk', 'WX']",
     "output_type": "error",
     "traceback": [
      "\u001b[0;31m---------------------------------------------------------------------------\u001b[0m",
      "\u001b[0;31mValueError\u001b[0m                                Traceback (most recent call last)",
      "\u001b[0;32m<ipython-input-1-fb76ce01b7b9>\u001b[0m in \u001b[0;36m<module>\u001b[0;34m()\u001b[0m\n\u001b[1;32m     12\u001b[0m \u001b[0;32mimport\u001b[0m \u001b[0mos\u001b[0m\u001b[0;34m\u001b[0m\u001b[0m\n\u001b[1;32m     13\u001b[0m \u001b[0mget_ipython\u001b[0m\u001b[0;34m(\u001b[0m\u001b[0;34m)\u001b[0m\u001b[0;34m.\u001b[0m\u001b[0mmagic\u001b[0m\u001b[0;34m(\u001b[0m\u001b[0;34mu'pylab inline'\u001b[0m\u001b[0;34m)\u001b[0m\u001b[0;34m\u001b[0m\u001b[0m\n\u001b[0;32m---> 14\u001b[0;31m \u001b[0mget_ipython\u001b[0m\u001b[0;34m(\u001b[0m\u001b[0;34m)\u001b[0m\u001b[0;34m.\u001b[0m\u001b[0mmagic\u001b[0m\u001b[0;34m(\u001b[0m\u001b[0;34mu'pylab notebook'\u001b[0m\u001b[0;34m)\u001b[0m\u001b[0;34m\u001b[0m\u001b[0m\n\u001b[0m",
      "\u001b[0;32m/usr/local/lib/python2.7/dist-packages/IPython/core/interactiveshell.pyc\u001b[0m in \u001b[0;36mmagic\u001b[0;34m(self, arg_s)\u001b[0m\n\u001b[1;32m   2156\u001b[0m         \u001b[0mmagic_name\u001b[0m\u001b[0;34m,\u001b[0m \u001b[0m_\u001b[0m\u001b[0;34m,\u001b[0m \u001b[0mmagic_arg_s\u001b[0m \u001b[0;34m=\u001b[0m \u001b[0marg_s\u001b[0m\u001b[0;34m.\u001b[0m\u001b[0mpartition\u001b[0m\u001b[0;34m(\u001b[0m\u001b[0;34m' '\u001b[0m\u001b[0;34m)\u001b[0m\u001b[0;34m\u001b[0m\u001b[0m\n\u001b[1;32m   2157\u001b[0m         \u001b[0mmagic_name\u001b[0m \u001b[0;34m=\u001b[0m \u001b[0mmagic_name\u001b[0m\u001b[0;34m.\u001b[0m\u001b[0mlstrip\u001b[0m\u001b[0;34m(\u001b[0m\u001b[0mprefilter\u001b[0m\u001b[0;34m.\u001b[0m\u001b[0mESC_MAGIC\u001b[0m\u001b[0;34m)\u001b[0m\u001b[0;34m\u001b[0m\u001b[0m\n\u001b[0;32m-> 2158\u001b[0;31m         \u001b[0;32mreturn\u001b[0m \u001b[0mself\u001b[0m\u001b[0;34m.\u001b[0m\u001b[0mrun_line_magic\u001b[0m\u001b[0;34m(\u001b[0m\u001b[0mmagic_name\u001b[0m\u001b[0;34m,\u001b[0m \u001b[0mmagic_arg_s\u001b[0m\u001b[0;34m)\u001b[0m\u001b[0;34m\u001b[0m\u001b[0m\n\u001b[0m\u001b[1;32m   2159\u001b[0m \u001b[0;34m\u001b[0m\u001b[0m\n\u001b[1;32m   2160\u001b[0m     \u001b[0;31m#-------------------------------------------------------------------------\u001b[0m\u001b[0;34m\u001b[0m\u001b[0;34m\u001b[0m\u001b[0m\n",
      "\u001b[0;32m/usr/local/lib/python2.7/dist-packages/IPython/core/interactiveshell.pyc\u001b[0m in \u001b[0;36mrun_line_magic\u001b[0;34m(self, magic_name, line)\u001b[0m\n\u001b[1;32m   2077\u001b[0m                 \u001b[0mkwargs\u001b[0m\u001b[0;34m[\u001b[0m\u001b[0;34m'local_ns'\u001b[0m\u001b[0;34m]\u001b[0m \u001b[0;34m=\u001b[0m \u001b[0msys\u001b[0m\u001b[0;34m.\u001b[0m\u001b[0m_getframe\u001b[0m\u001b[0;34m(\u001b[0m\u001b[0mstack_depth\u001b[0m\u001b[0;34m)\u001b[0m\u001b[0;34m.\u001b[0m\u001b[0mf_locals\u001b[0m\u001b[0;34m\u001b[0m\u001b[0m\n\u001b[1;32m   2078\u001b[0m             \u001b[0;32mwith\u001b[0m \u001b[0mself\u001b[0m\u001b[0;34m.\u001b[0m\u001b[0mbuiltin_trap\u001b[0m\u001b[0;34m:\u001b[0m\u001b[0;34m\u001b[0m\u001b[0m\n\u001b[0;32m-> 2079\u001b[0;31m                 \u001b[0mresult\u001b[0m \u001b[0;34m=\u001b[0m \u001b[0mfn\u001b[0m\u001b[0;34m(\u001b[0m\u001b[0;34m*\u001b[0m\u001b[0margs\u001b[0m\u001b[0;34m,\u001b[0m\u001b[0;34m**\u001b[0m\u001b[0mkwargs\u001b[0m\u001b[0;34m)\u001b[0m\u001b[0;34m\u001b[0m\u001b[0m\n\u001b[0m\u001b[1;32m   2080\u001b[0m             \u001b[0;32mreturn\u001b[0m \u001b[0mresult\u001b[0m\u001b[0;34m\u001b[0m\u001b[0m\n\u001b[1;32m   2081\u001b[0m \u001b[0;34m\u001b[0m\u001b[0m\n",
      "\u001b[0;32m<decorator-gen-105>\u001b[0m in \u001b[0;36mpylab\u001b[0;34m(self, line)\u001b[0m\n",
      "\u001b[0;32m/usr/local/lib/python2.7/dist-packages/IPython/core/magic.pyc\u001b[0m in \u001b[0;36m<lambda>\u001b[0;34m(f, *a, **k)\u001b[0m\n\u001b[1;32m    186\u001b[0m     \u001b[0;31m# but it's overkill for just that one bit of state.\u001b[0m\u001b[0;34m\u001b[0m\u001b[0;34m\u001b[0m\u001b[0m\n\u001b[1;32m    187\u001b[0m     \u001b[0;32mdef\u001b[0m \u001b[0mmagic_deco\u001b[0m\u001b[0;34m(\u001b[0m\u001b[0marg\u001b[0m\u001b[0;34m)\u001b[0m\u001b[0;34m:\u001b[0m\u001b[0;34m\u001b[0m\u001b[0m\n\u001b[0;32m--> 188\u001b[0;31m         \u001b[0mcall\u001b[0m \u001b[0;34m=\u001b[0m \u001b[0;32mlambda\u001b[0m \u001b[0mf\u001b[0m\u001b[0;34m,\u001b[0m \u001b[0;34m*\u001b[0m\u001b[0ma\u001b[0m\u001b[0;34m,\u001b[0m \u001b[0;34m**\u001b[0m\u001b[0mk\u001b[0m\u001b[0;34m:\u001b[0m \u001b[0mf\u001b[0m\u001b[0;34m(\u001b[0m\u001b[0;34m*\u001b[0m\u001b[0ma\u001b[0m\u001b[0;34m,\u001b[0m \u001b[0;34m**\u001b[0m\u001b[0mk\u001b[0m\u001b[0;34m)\u001b[0m\u001b[0;34m\u001b[0m\u001b[0m\n\u001b[0m\u001b[1;32m    189\u001b[0m \u001b[0;34m\u001b[0m\u001b[0m\n\u001b[1;32m    190\u001b[0m         \u001b[0;32mif\u001b[0m \u001b[0mcallable\u001b[0m\u001b[0;34m(\u001b[0m\u001b[0marg\u001b[0m\u001b[0;34m)\u001b[0m\u001b[0;34m:\u001b[0m\u001b[0;34m\u001b[0m\u001b[0m\n",
      "\u001b[0;32m/usr/local/lib/python2.7/dist-packages/IPython/core/magics/pylab.pyc\u001b[0m in \u001b[0;36mpylab\u001b[0;34m(self, line)\u001b[0m\n\u001b[1;32m    154\u001b[0m             \u001b[0mimport_all\u001b[0m \u001b[0;34m=\u001b[0m \u001b[0;32mnot\u001b[0m \u001b[0margs\u001b[0m\u001b[0;34m.\u001b[0m\u001b[0mno_import_all\u001b[0m\u001b[0;34m\u001b[0m\u001b[0m\n\u001b[1;32m    155\u001b[0m \u001b[0;34m\u001b[0m\u001b[0m\n\u001b[0;32m--> 156\u001b[0;31m         \u001b[0mgui\u001b[0m\u001b[0;34m,\u001b[0m \u001b[0mbackend\u001b[0m\u001b[0;34m,\u001b[0m \u001b[0mclobbered\u001b[0m \u001b[0;34m=\u001b[0m \u001b[0mself\u001b[0m\u001b[0;34m.\u001b[0m\u001b[0mshell\u001b[0m\u001b[0;34m.\u001b[0m\u001b[0menable_pylab\u001b[0m\u001b[0;34m(\u001b[0m\u001b[0margs\u001b[0m\u001b[0;34m.\u001b[0m\u001b[0mgui\u001b[0m\u001b[0;34m,\u001b[0m \u001b[0mimport_all\u001b[0m\u001b[0;34m=\u001b[0m\u001b[0mimport_all\u001b[0m\u001b[0;34m)\u001b[0m\u001b[0;34m\u001b[0m\u001b[0m\n\u001b[0m\u001b[1;32m    157\u001b[0m         \u001b[0mself\u001b[0m\u001b[0;34m.\u001b[0m\u001b[0m_show_matplotlib_backend\u001b[0m\u001b[0;34m(\u001b[0m\u001b[0margs\u001b[0m\u001b[0;34m.\u001b[0m\u001b[0mgui\u001b[0m\u001b[0;34m,\u001b[0m \u001b[0mbackend\u001b[0m\u001b[0;34m)\u001b[0m\u001b[0;34m\u001b[0m\u001b[0m\n\u001b[1;32m    158\u001b[0m         \u001b[0;32mprint\u001b[0m \u001b[0;34m(\u001b[0m\u001b[0;34m\"Populating the interactive namespace from numpy and matplotlib\"\u001b[0m\u001b[0;34m)\u001b[0m\u001b[0;34m\u001b[0m\u001b[0m\n",
      "\u001b[0;32m/usr/local/lib/python2.7/dist-packages/IPython/core/interactiveshell.pyc\u001b[0m in \u001b[0;36menable_pylab\u001b[0;34m(self, gui, import_all, welcome_message)\u001b[0m\n\u001b[1;32m   2986\u001b[0m         \u001b[0;32mfrom\u001b[0m \u001b[0mIPython\u001b[0m\u001b[0;34m.\u001b[0m\u001b[0mcore\u001b[0m\u001b[0;34m.\u001b[0m\u001b[0mpylabtools\u001b[0m \u001b[0;32mimport\u001b[0m \u001b[0mimport_pylab\u001b[0m\u001b[0;34m\u001b[0m\u001b[0m\n\u001b[1;32m   2987\u001b[0m \u001b[0;34m\u001b[0m\u001b[0m\n\u001b[0;32m-> 2988\u001b[0;31m         \u001b[0mgui\u001b[0m\u001b[0;34m,\u001b[0m \u001b[0mbackend\u001b[0m \u001b[0;34m=\u001b[0m \u001b[0mself\u001b[0m\u001b[0;34m.\u001b[0m\u001b[0menable_matplotlib\u001b[0m\u001b[0;34m(\u001b[0m\u001b[0mgui\u001b[0m\u001b[0;34m)\u001b[0m\u001b[0;34m\u001b[0m\u001b[0m\n\u001b[0m\u001b[1;32m   2989\u001b[0m \u001b[0;34m\u001b[0m\u001b[0m\n\u001b[1;32m   2990\u001b[0m         \u001b[0;31m# We want to prevent the loading of pylab to pollute the user's\u001b[0m\u001b[0;34m\u001b[0m\u001b[0;34m\u001b[0m\u001b[0m\n",
      "\u001b[0;32m/usr/local/lib/python2.7/dist-packages/IPython/core/interactiveshell.pyc\u001b[0m in \u001b[0;36menable_matplotlib\u001b[0;34m(self, gui)\u001b[0m\n\u001b[1;32m   2947\u001b[0m                 \u001b[0mgui\u001b[0m\u001b[0;34m,\u001b[0m \u001b[0mbackend\u001b[0m \u001b[0;34m=\u001b[0m \u001b[0mpt\u001b[0m\u001b[0;34m.\u001b[0m\u001b[0mfind_gui_and_backend\u001b[0m\u001b[0;34m(\u001b[0m\u001b[0mself\u001b[0m\u001b[0;34m.\u001b[0m\u001b[0mpylab_gui_select\u001b[0m\u001b[0;34m)\u001b[0m\u001b[0;34m\u001b[0m\u001b[0m\n\u001b[1;32m   2948\u001b[0m \u001b[0;34m\u001b[0m\u001b[0m\n\u001b[0;32m-> 2949\u001b[0;31m         \u001b[0mpt\u001b[0m\u001b[0;34m.\u001b[0m\u001b[0mactivate_matplotlib\u001b[0m\u001b[0;34m(\u001b[0m\u001b[0mbackend\u001b[0m\u001b[0;34m)\u001b[0m\u001b[0;34m\u001b[0m\u001b[0m\n\u001b[0m\u001b[1;32m   2950\u001b[0m         \u001b[0mpt\u001b[0m\u001b[0;34m.\u001b[0m\u001b[0mconfigure_inline_support\u001b[0m\u001b[0;34m(\u001b[0m\u001b[0mself\u001b[0m\u001b[0;34m,\u001b[0m \u001b[0mbackend\u001b[0m\u001b[0;34m)\u001b[0m\u001b[0;34m\u001b[0m\u001b[0m\n\u001b[1;32m   2951\u001b[0m \u001b[0;34m\u001b[0m\u001b[0m\n",
      "\u001b[0;32m/usr/local/lib/python2.7/dist-packages/IPython/core/pylabtools.pyc\u001b[0m in \u001b[0;36mactivate_matplotlib\u001b[0;34m(backend)\u001b[0m\n\u001b[1;32m    303\u001b[0m     \u001b[0;31m# the rcParam to update. This needs to be set *before* the module\u001b[0m\u001b[0;34m\u001b[0m\u001b[0;34m\u001b[0m\u001b[0m\n\u001b[1;32m    304\u001b[0m     \u001b[0;31m# magic of switch_backend().\u001b[0m\u001b[0;34m\u001b[0m\u001b[0;34m\u001b[0m\u001b[0m\n\u001b[0;32m--> 305\u001b[0;31m     \u001b[0mmatplotlib\u001b[0m\u001b[0;34m.\u001b[0m\u001b[0mrcParams\u001b[0m\u001b[0;34m[\u001b[0m\u001b[0;34m'backend'\u001b[0m\u001b[0;34m]\u001b[0m \u001b[0;34m=\u001b[0m \u001b[0mbackend\u001b[0m\u001b[0;34m\u001b[0m\u001b[0m\n\u001b[0m\u001b[1;32m    306\u001b[0m \u001b[0;34m\u001b[0m\u001b[0m\n\u001b[1;32m    307\u001b[0m     \u001b[0;32mimport\u001b[0m \u001b[0mmatplotlib\u001b[0m\u001b[0;34m.\u001b[0m\u001b[0mpyplot\u001b[0m\u001b[0;34m\u001b[0m\u001b[0m\n",
      "\u001b[0;32m/usr/lib/pymodules/python2.7/matplotlib/__init__.pyc\u001b[0m in \u001b[0;36m__setitem__\u001b[0;34m(self, key, val)\u001b[0m\n\u001b[1;32m    806\u001b[0m                 \u001b[0mwarnings\u001b[0m\u001b[0;34m.\u001b[0m\u001b[0mwarn\u001b[0m\u001b[0;34m(\u001b[0m\u001b[0mself\u001b[0m\u001b[0;34m.\u001b[0m\u001b[0mmsg_depr_ignore\u001b[0m \u001b[0;34m%\u001b[0m \u001b[0;34m(\u001b[0m\u001b[0mkey\u001b[0m\u001b[0;34m,\u001b[0m \u001b[0malt\u001b[0m\u001b[0;34m)\u001b[0m\u001b[0;34m)\u001b[0m\u001b[0;34m\u001b[0m\u001b[0m\n\u001b[1;32m    807\u001b[0m                 \u001b[0;32mreturn\u001b[0m\u001b[0;34m\u001b[0m\u001b[0m\n\u001b[0;32m--> 808\u001b[0;31m             \u001b[0mcval\u001b[0m \u001b[0;34m=\u001b[0m \u001b[0mself\u001b[0m\u001b[0;34m.\u001b[0m\u001b[0mvalidate\u001b[0m\u001b[0;34m[\u001b[0m\u001b[0mkey\u001b[0m\u001b[0;34m]\u001b[0m\u001b[0;34m(\u001b[0m\u001b[0mval\u001b[0m\u001b[0;34m)\u001b[0m\u001b[0;34m\u001b[0m\u001b[0m\n\u001b[0m\u001b[1;32m    809\u001b[0m             \u001b[0mdict\u001b[0m\u001b[0;34m.\u001b[0m\u001b[0m__setitem__\u001b[0m\u001b[0;34m(\u001b[0m\u001b[0mself\u001b[0m\u001b[0;34m,\u001b[0m \u001b[0mkey\u001b[0m\u001b[0;34m,\u001b[0m \u001b[0mcval\u001b[0m\u001b[0;34m)\u001b[0m\u001b[0;34m\u001b[0m\u001b[0m\n\u001b[1;32m    810\u001b[0m         \u001b[0;32mexcept\u001b[0m \u001b[0mKeyError\u001b[0m\u001b[0;34m:\u001b[0m\u001b[0;34m\u001b[0m\u001b[0m\n",
      "\u001b[0;32m/usr/lib/pymodules/python2.7/matplotlib/rcsetup.pyc\u001b[0m in \u001b[0;36mvalidate_backend\u001b[0;34m(s)\u001b[0m\n\u001b[1;32m    144\u001b[0m         \u001b[0;32mreturn\u001b[0m \u001b[0ms\u001b[0m\u001b[0;34m\u001b[0m\u001b[0m\n\u001b[1;32m    145\u001b[0m     \u001b[0;32melse\u001b[0m\u001b[0;34m:\u001b[0m\u001b[0;34m\u001b[0m\u001b[0m\n\u001b[0;32m--> 146\u001b[0;31m         \u001b[0;32mreturn\u001b[0m \u001b[0m_validate_standard_backends\u001b[0m\u001b[0;34m(\u001b[0m\u001b[0ms\u001b[0m\u001b[0;34m)\u001b[0m\u001b[0;34m\u001b[0m\u001b[0m\n\u001b[0m\u001b[1;32m    147\u001b[0m \u001b[0;34m\u001b[0m\u001b[0m\n\u001b[1;32m    148\u001b[0m \u001b[0mvalidate_qt4\u001b[0m \u001b[0;34m=\u001b[0m \u001b[0mValidateInStrings\u001b[0m\u001b[0;34m(\u001b[0m\u001b[0;34m'backend.qt4'\u001b[0m\u001b[0;34m,\u001b[0m \u001b[0;34m[\u001b[0m\u001b[0;34m'PyQt4'\u001b[0m\u001b[0;34m,\u001b[0m \u001b[0;34m'PySide'\u001b[0m\u001b[0;34m]\u001b[0m\u001b[0;34m)\u001b[0m\u001b[0;34m\u001b[0m\u001b[0m\n",
      "\u001b[0;32m/usr/lib/pymodules/python2.7/matplotlib/rcsetup.pyc\u001b[0m in \u001b[0;36m__call__\u001b[0;34m(self, s)\u001b[0m\n\u001b[1;32m     55\u001b[0m             \u001b[0;32mreturn\u001b[0m \u001b[0mself\u001b[0m\u001b[0;34m.\u001b[0m\u001b[0mvalid\u001b[0m\u001b[0;34m[\u001b[0m\u001b[0ms\u001b[0m\u001b[0;34m]\u001b[0m\u001b[0;34m\u001b[0m\u001b[0m\n\u001b[1;32m     56\u001b[0m         raise ValueError('Unrecognized %s string \"%s\": valid strings are %s'\n\u001b[0;32m---> 57\u001b[0;31m                          % (self.key, s, self.valid.values()))\n\u001b[0m\u001b[1;32m     58\u001b[0m \u001b[0;34m\u001b[0m\u001b[0m\n\u001b[1;32m     59\u001b[0m \u001b[0;34m\u001b[0m\u001b[0m\n",
      "\u001b[0;31mValueError\u001b[0m: Unrecognized backend string \"nbagg\": valid strings are ['pdf', 'pgf', 'Qt4Agg', 'GTK', 'GTKAgg', 'ps', 'agg', 'cairo', 'MacOSX', 'GTKCairo', 'WXAgg', 'template', 'TkAgg', 'GTK3Cairo', 'GTK3Agg', 'svg', 'WebAgg', 'CocoaAgg', 'emf', 'gdk', 'WX']"
     ]
    }
   ],
   "source": [
    "# Uncomment these if do this homework locally\n",
    "# See Homework 3 for details\n",
    "\n",
    "#from local_install import setup_environment\n",
    "#setup_environment() \n",
    "\n",
    "import folium\n",
    "import pyspark\n",
    "from pyspark.sql.types import *\n",
    "import matplotlib.pyplot as plt\n",
    "import numpy as np\n",
    "import os\n",
    "%pylab inline\n",
    "%pylab notebook"
   ]
  },
  {
   "cell_type": "code",
   "execution_count": 2,
   "metadata": {},
   "outputs": [],
   "source": [
    "sc = pyspark.SparkContext()\n",
    "sql = pyspark.sql.SQLContext(sc)"
   ]
  },
  {
   "cell_type": "markdown",
   "metadata": {},
   "source": [
    "# 1. DataFrames"
   ]
  },
  {
   "cell_type": "markdown",
   "metadata": {},
   "source": [
    "## 1a. File Format Wrangling"
   ]
  },
  {
   "cell_type": "markdown",
   "metadata": {},
   "source": [
    "### Begin Student Code Here"
   ]
  },
  {
   "cell_type": "markdown",
   "metadata": {},
   "source": [
    "Implement the loading of data files into DataFrame objects. First, unzip the data file into a local folder whose path is stored in 'root_path'."
   ]
  },
  {
   "cell_type": "code",
   "execution_count": 3,
   "metadata": {
    "collapsed": true
   },
   "outputs": [],
   "source": [
    "root_path = \"./fec_2016_3_25\"\n",
    "\n",
    "# file_struct objects\n",
    "com_file = {'header': \"cm_header_file.csv\", 'data': \"cm.txt\" }\n",
    "can_file = {'header': \"cn_header_file.csv\", 'data': \"cn.txt\" }\n",
    "com_can_link_file = {'header': \"ccl_header_file.csv\", 'data': \"ccl.txt\" }\n",
    "indv_file = {'header': \"indiv_header_file.csv\", 'data': \"itcont.txt\" }\n",
    "pas_file = {'header': \"pas2_header_file.csv\", 'data': \"itpas2.txt\" }\n",
    "com_links_file = {'header': \"oth_header_file.csv\", 'data': \"itoth.txt\" }\n",
    "\n",
    "def load_header(filename):\n",
    "    \"\"\"\n",
    "    Given a header .csv file, return a list containing the names of all columns in the table.\n",
    "    \n",
    "    Input:\n",
    "    filename: a string specifying the header .csv file to load\n",
    "    \n",
    "    Output:\n",
    "    A list containing column names of the table\n",
    "    \"\"\"\n",
    "    with open(filename, \"r\") as f:\n",
    "        return [r.replace('\\r\\n','') for r in f.readline().split(\",\")]\n",
    "    \n",
    "def load_dataframe(file_struct):\n",
    "    \"\"\"\n",
    "    Given a dictionary representing the locations of FEC raw files corresponding to a table,\n",
    "    load the tables into a Spark DataFrame.\n",
    "    \n",
    "    Input:\n",
    "    file_struct: a dictionary containing the keys 'header' and 'data', where\n",
    "     'header' contains the name of the `.csv` file specifying the table header file, and\n",
    "     'data' contains the name of the `.txt` file specifying the table data file\n",
    "     \n",
    "    Output:\n",
    "    A DataFrame which contains the loaded data.\n",
    "    \"\"\"\n",
    "    df = None\n",
    "    # TODO\n",
    "    #first we need to get all the headers and the data\n",
    "    headers = load_header(root_path + \"/\" + file_struct['header'])\n",
    "    data_lines = sc.textFile(root_path + \"/\" + file_struct['data'])\n",
    "    #convert data_lines into tuple of data\n",
    "    data  = data_lines.map(lambda t: t.split(\"|\"))\n",
    "    #make struct field from headers\n",
    "    fields = []\n",
    "    for header in headers :\n",
    "        current_struct = StructField(header,StringType(),True)\n",
    "        fields.append(current_struct)\n",
    "    schema = StructType(fields)\n",
    "    #give the schema to the data frame\n",
    "    df =  sql.createDataFrame(data,schema)\n",
    "    return df.cache()"
   ]
  },
  {
   "cell_type": "markdown",
   "metadata": {},
   "source": [
    "### End Student Code Here"
   ]
  },
  {
   "cell_type": "markdown",
   "metadata": {},
   "source": [
    "We'll load these files into Spark now, and register them as temporary SQL tables."
   ]
  },
  {
   "cell_type": "code",
   "execution_count": 4,
   "metadata": {
    "collapsed": true
   },
   "outputs": [],
   "source": [
    "com = load_dataframe(com_file)\n",
    "can = load_dataframe(can_file)\n",
    "links = load_dataframe(com_can_link_file)\n",
    "indv = load_dataframe(indv_file)\n",
    "pas = load_dataframe(pas_file)\n",
    "com_links = load_dataframe(com_links_file)"
   ]
  },
  {
   "cell_type": "code",
   "execution_count": 5,
   "metadata": {
    "collapsed": true
   },
   "outputs": [],
   "source": [
    "com.registerTempTable(\"com\")\n",
    "can.registerTempTable(\"can\")\n",
    "links.registerTempTable(\"links\")\n",
    "indv.registerTempTable(\"indv\")\n",
    "pas.registerTempTable(\"pas\")\n",
    "com_links.registerTempTable(\"com_links\")"
   ]
  },
  {
   "cell_type": "markdown",
   "metadata": {},
   "source": [
    "## 1b. Basic Analytics Queries"
   ]
  },
  {
   "cell_type": "markdown",
   "metadata": {},
   "source": [
    "As a demonstration, let's query for information corresponding to the strings \"Clinton\", \"Sanders\", \"Trump\", and \"Cruz\". Try these queries. How does this output look?"
   ]
  },
  {
   "cell_type": "code",
   "execution_count": 6,
   "metadata": {},
   "outputs": [
    {
     "name": "stdout",
     "output_type": "stream",
     "text": [
      "+---------+-----------------------------------+-----------+-----------+\n",
      "|CAND_ID  |CAND_NAME                          |CAND_STATUS|CAND_OFFICE|\n",
      "+---------+-----------------------------------+-----------+-----------+\n",
      "|H2CA24153|THAYNE, DAVID CRUZ                 |P          |H          |\n",
      "|H2MI08105|HETRICK, BRIAN CLINTON             |N          |H          |\n",
      "|H2TX33123|SANDERS, KENNETH                   |P          |H          |\n",
      "|H6NY05051|SANDERS, JAMES JR                  |C          |H          |\n",
      "|H6NY09137|SANDERS, JAIME                     |N          |H          |\n",
      "|H8OH02041|SANDERS, CHARLES W                 |P          |H          |\n",
      "|P00003392|CLINTON, HILLARY RODHAM            |C          |P          |\n",
      "|P60006111|CRUZ, RAFAEL EDWARD \"TED\"          |C          |P          |\n",
      "|P60007168|SANDERS, BERNARD                   |C          |P          |\n",
      "|P60012184|BALLSACK, DONALD TRUMP'S HAIRY KING|N          |P          |\n",
      "|P60012333|CLINTON, BILL                      |N          |P          |\n",
      "|P60013265|TRUMP, SELAM MRS.                  |N          |P          |\n",
      "|P60018835|TRUMP, THE MUSLIM DICTATOR         |N          |P          |\n",
      "|P60018991|TRUMP, DON'T VOTE FOR              |N          |P          |\n",
      "|P80001571|TRUMP, DONALD J                    |C          |P          |\n",
      "|P80004310|SANDERS, COLONEL LAUNEIL           |N          |P          |\n",
      "|S0AZ00236|CRUZADO, LOUIS MICHAEL             |N          |S          |\n",
      "|S0NY00188|CLINTON, HILLARY RODHAM            |P          |S          |\n",
      "|S2TX00312|CRUZ, RAFAEL EDWARD TED            |F          |S          |\n",
      "|S4VT00033|SANDERS, BERNARD                   |F          |S          |\n",
      "+---------+-----------------------------------+-----------+-----------+\n",
      "\n"
     ]
    }
   ],
   "source": [
    "front_runners = can.where(can.CAND_NAME.like(\"%CLINTON%\") | can.CAND_NAME.like(\"%SANDERS%\") \n",
    "          | can.CAND_NAME.like(\"%TRUMP%\") | can.CAND_NAME.like(\"%CRUZ%\") )\\\n",
    "    .select(\"CAND_ID\", \"CAND_NAME\", \"CAND_STATUS\", \"CAND_OFFICE\")\n",
    "front_runners.show(truncate=False)"
   ]
  },
  {
   "cell_type": "code",
   "execution_count": 7,
   "metadata": {},
   "outputs": [
    {
     "name": "stdout",
     "output_type": "stream",
     "text": [
      "+---------+-----------------------------------+-----------+-----------+\n",
      "|CAND_ID  |CAND_NAME                          |CAND_STATUS|CAND_OFFICE|\n",
      "+---------+-----------------------------------+-----------+-----------+\n",
      "|H2CA24153|THAYNE, DAVID CRUZ                 |P          |H          |\n",
      "|H2MI08105|HETRICK, BRIAN CLINTON             |N          |H          |\n",
      "|H2TX33123|SANDERS, KENNETH                   |P          |H          |\n",
      "|H6NY05051|SANDERS, JAMES JR                  |C          |H          |\n",
      "|H6NY09137|SANDERS, JAIME                     |N          |H          |\n",
      "|H8OH02041|SANDERS, CHARLES W                 |P          |H          |\n",
      "|P00003392|CLINTON, HILLARY RODHAM            |C          |P          |\n",
      "|P60006111|CRUZ, RAFAEL EDWARD \"TED\"          |C          |P          |\n",
      "|P60007168|SANDERS, BERNARD                   |C          |P          |\n",
      "|P60012184|BALLSACK, DONALD TRUMP'S HAIRY KING|N          |P          |\n",
      "|P60012333|CLINTON, BILL                      |N          |P          |\n",
      "|P60013265|TRUMP, SELAM MRS.                  |N          |P          |\n",
      "|P60018835|TRUMP, THE MUSLIM DICTATOR         |N          |P          |\n",
      "|P60018991|TRUMP, DON'T VOTE FOR              |N          |P          |\n",
      "|P80001571|TRUMP, DONALD J                    |C          |P          |\n",
      "|P80004310|SANDERS, COLONEL LAUNEIL           |N          |P          |\n",
      "|S0AZ00236|CRUZADO, LOUIS MICHAEL             |N          |S          |\n",
      "|S0NY00188|CLINTON, HILLARY RODHAM            |P          |S          |\n",
      "|S2TX00312|CRUZ, RAFAEL EDWARD TED            |F          |S          |\n",
      "|S4VT00033|SANDERS, BERNARD                   |F          |S          |\n",
      "+---------+-----------------------------------+-----------+-----------+\n",
      "\n"
     ]
    }
   ],
   "source": [
    "front_runners = sql.sql(\"\"\"\n",
    "SELECT CAND_ID, CAND_NAME, CAND_STATUS, CAND_OFFICE\n",
    "FROM can\n",
    "WHERE CAND_NAME LIKE \"%CLINTON%\"\n",
    "OR CAND_NAME LIKE \"%SANDERS%\"\n",
    "OR CAND_NAME LIKE \"%TRUMP%\"\n",
    "OR CAND_NAME LIKE \"%CRUZ%\"\n",
    "\"\"\")\n",
    "front_runners.registerTempTable(\"fr\")\n",
    "front_runners.show(truncate=False)"
   ]
  },
  {
   "cell_type": "markdown",
   "metadata": {},
   "source": [
    "That didn't work out so well. But notice how both queries got the same results! For the rest of the questions, you are allowed to write the queries in either form. Use the DataFrames that you created in part 1a. They are listed again here for reference:\n",
    "\n",
    "* **com** contains committee information [Details](http://www.fec.gov/finance/disclosure/metadata/DataDictionaryCommitteeMaster.shtml)\n",
    "* **can** contains candidate information [Details](http://www.fec.gov/finance/disclosure/metadata/DataDictionaryCandidateMaster.shtml)\n",
    "* **links** contains linkage between committees and candidates [Details](http://www.fec.gov/finance/disclosure/metadata/DataDictionaryCandCmteLinkage.shtml)\n",
    "* **indv** contains individual contributions to committees [Details](http://www.fec.gov/finance/disclosure/metadata/DataDictionaryContributionsbyIndividuals.shtml)\n",
    "* **pas** contains contributions between committees [Details](http://www.fec.gov/finance/disclosure/metadata/DataDictionaryContributionstoCandidates.shtml)\n",
    "* **com_links** links between committees [Details](http://www.fec.gov/finance/disclosure/metadata/DataDictionaryCommitteetoCommittee.shtml)"
   ]
  },
  {
   "cell_type": "markdown",
   "metadata": {},
   "source": [
    "### Begin Student Code Here"
   ]
  },
  {
   "cell_type": "markdown",
   "metadata": {},
   "source": [
    "Q1."
   ]
  },
  {
   "cell_type": "code",
   "execution_count": 15,
   "metadata": {},
   "outputs": [
    {
     "name": "stdout",
     "output_type": "stream",
     "text": [
      "+---------+-------------------------+---------+\n",
      "|CAND_ID  |CAND_NAME                |CAND_PCC |\n",
      "+---------+-------------------------+---------+\n",
      "|P00003392|CLINTON, HILLARY RODHAM  |C00575795|\n",
      "|P60006111|CRUZ, RAFAEL EDWARD \"TED\"|C00574624|\n",
      "|P60007168|SANDERS, BERNARD         |C00577130|\n",
      "|P80001571|TRUMP, DONALD J          |C00580100|\n",
      "+---------+-------------------------+---------+\n",
      "\n"
     ]
    }
   ],
   "source": [
    "front_runners = sql.sql(\"\"\"\n",
    "SELECT CAND_ID,CAND_NAME,CAND_PCC\n",
    "FROM can\n",
    "WHERE (CAND_NAME LIKE \"%CLINTON%\" OR CAND_NAME LIKE \"%SANDERS%\"\n",
    "OR CAND_NAME LIKE \"%TRUMP%\" OR CAND_NAME LIKE \"%CRUZ%\")\n",
    "AND CAND_OFFICE = \"P\" AND CAND_STATUS = \"C\"\n",
    "\"\"\")\n",
    "# TODO\n",
    "front_runners.registerTempTable(\"Question_one\")\n",
    "q1 = front_runners\n",
    "#.select(\"CAND_ID\", \"CAND_NAME\", \"CAND_PCC\")\n",
    "q1.show(truncate=False)"
   ]
  },
  {
   "cell_type": "markdown",
   "metadata": {},
   "source": [
    "**Q1 Expected Output:**\n",
    "```\n",
    "+---------+-------------------------+---------+\n",
    "|CAND_ID  |CAND_NAME                |CAND_PCC |\n",
    "+---------+-------------------------+---------+\n",
    "|P00003392|CLINTON, HILLARY RODHAM  |C00575795|\n",
    "|P60006111|CRUZ, RAFAEL EDWARD \"TED\"|C00574624|\n",
    "|P60007168|SANDERS, BERNARD         |C00577130|\n",
    "|P80001571|TRUMP, DONALD J          |C00580100|\n",
    "+---------+-------------------------+---------+\n",
    "```"
   ]
  },
  {
   "cell_type": "markdown",
   "metadata": {},
   "source": [
    "Q2."
   ]
  },
  {
   "cell_type": "code",
   "execution_count": 14,
   "metadata": {},
   "outputs": [
    {
     "name": "stdout",
     "output_type": "stream",
     "text": [
      "+---------+-------------------------+-----+\n",
      "|CAND_ID  |CAND_NAME                |count|\n",
      "+---------+-------------------------+-----+\n",
      "|P80001571|TRUMP, DONALD J          |3006 |\n",
      "|P60006111|CRUZ, RAFAEL EDWARD \"TED\"|34699|\n",
      "|P60007168|SANDERS, BERNARD         |34524|\n",
      "|P00003392|CLINTON, HILLARY RODHAM  |71249|\n",
      "+---------+-------------------------+-----+\n",
      "\n"
     ]
    }
   ],
   "source": [
    "num_indv_contributions = sql.sql(\"\"\"\n",
    "SELECT CAND_ID,CAND_NAME,COUNT(*) AS count\n",
    "FROM Question_one,indv\n",
    "WHERE Question_one.CAND_PCC = indv.CMTE_ID\n",
    "GROUP BY CAND_ID,CAND_NAME\n",
    "\"\"\")\n",
    "# TODO\n",
    "\n",
    "q2 = num_indv_contributions\n",
    "#.select(\"CAND_ID\", \"CAND_NAME\", \"count\")\n",
    "q2.show(truncate=False)"
   ]
  },
  {
   "cell_type": "markdown",
   "metadata": {},
   "source": [
    "**Q2 Expected Output:**\n",
    "```\n",
    "+---------+-------------------------+-----+\n",
    "|CAND_ID  |CAND_NAME                |count|\n",
    "+---------+-------------------------+-----+\n",
    "|P80001571|TRUMP, DONALD J          |3006 |\n",
    "|P60006111|CRUZ, RAFAEL EDWARD \"TED\"|34699|\n",
    "|P60007168|SANDERS, BERNARD         |34524|\n",
    "|P00003392|CLINTON, HILLARY RODHAM  |71249|\n",
    "+---------+-------------------------+-----+\n",
    "```"
   ]
  },
  {
   "cell_type": "markdown",
   "metadata": {},
   "source": [
    "Q3."
   ]
  },
  {
   "cell_type": "code",
   "execution_count": 13,
   "metadata": {},
   "outputs": [
    {
     "name": "stdout",
     "output_type": "stream",
     "text": [
      "+---------+-------------------------+--------------------+\n",
      "|CAND_ID  |CAND_NAME                |sum(TRANSACTION_AMT)|\n",
      "+---------+-------------------------+--------------------+\n",
      "|P80001571|TRUMP, DONALD J          |1994976.0           |\n",
      "|P60006111|CRUZ, RAFAEL EDWARD \"TED\"|2.4785175E7         |\n",
      "|P60007168|SANDERS, BERNARD         |4.9001141E7         |\n",
      "|P00003392|CLINTON, HILLARY RODHAM  |9.5996062E7         |\n",
      "+---------+-------------------------+--------------------+\n",
      "\n"
     ]
    }
   ],
   "source": [
    "indv_contributions_amt = sql.sql(\"\"\"\n",
    "SELECT CAND_ID,CAND_NAME,SUM(TRANSACTION_AMT) AS sum\n",
    "FROM Question_one,indv\n",
    "WHERE indv.CMTE_ID = Question_one.CAND_PCC\n",
    "GROUP BY CAND_ID,CAND_NAME\n",
    "ORDER BY sum\n",
    "\"\"\").withColumnRenamed(\"sum\",\"sum(TRANSACTION_AMT)\")\n",
    "\n",
    "# TODO\n",
    "\n",
    "# We will also accept a solution in either format.\n",
    "# Be sure to comment out the one you don't use: \n",
    "# q3 = indv_contributions_amt.select(\"CAND_ID\", \"CAND_NAME\", \"SUM\")\n",
    "q3 = indv_contributions_amt\n",
    "#.select(\"CAND_ID\", \"CAND_NAME\", \"count\")\n",
    "q3.show(truncate=False)"
   ]
  },
  {
   "cell_type": "markdown",
   "metadata": {},
   "source": [
    "**Q3 Expected Output:**\n",
    "```\n",
    "+---------+-------------------------+--------------------+\n",
    "|CAND_ID  |CAND_NAME                |sum(TRANSACTION_AMT)|\n",
    "+---------+-------------------------+--------------------+\n",
    "|P80001571|TRUMP, DONALD J          |1994976.0           |\n",
    "|P60006111|CRUZ, RAFAEL EDWARD \"TED\"|2.4785175E7         |\n",
    "|P60007168|SANDERS, BERNARD         |4.9001141E7         |\n",
    "|P00003392|CLINTON, HILLARY RODHAM  |9.5996062E7         |\n",
    "+---------+-------------------------+--------------------+\n",
    "```"
   ]
  },
  {
   "cell_type": "markdown",
   "metadata": {},
   "source": [
    "Q4."
   ]
  },
  {
   "cell_type": "code",
   "execution_count": 18,
   "metadata": {},
   "outputs": [
    {
     "name": "stdout",
     "output_type": "stream",
     "text": [
      "+-------------------------+---------+---------+-------------------------------------------------------------------------------+\n",
      "|CAND_NAME                |CAND_ID  |CMTE_ID  |CMTE_NM                                                                        |\n",
      "+-------------------------+---------+---------+-------------------------------------------------------------------------------+\n",
      "|CLINTON, HILLARY RODHAM  |P00003392|C00570978|FUTURE OF AMERICAN LIVES MATTER                                                |\n",
      "|CRUZ, RAFAEL EDWARD \"TED\"|P60006111|C00574624|CRUZ FOR PRESIDENT                                                             |\n",
      "|CLINTON, HILLARY RODHAM  |P00003392|C00575795|HILLARY FOR AMERICA                                                            |\n",
      "|SANDERS, BERNARD         |P60007168|C00577130|BERNIE 2016                                                                    |\n",
      "|CLINTON, HILLARY RODHAM  |P00003392|C00577395|PEOPLE IN COMMAND/PIC                                                          |\n",
      "|TRUMP, DONALD J          |P80001571|C00580100|DONALD J. TRUMP FOR PRESIDENT, INC.                                            |\n",
      "|SANDERS, BERNARD         |P60007168|C00582395|UPSTATE NEW YORK FOR BERNIE SANDERS                                            |\n",
      "|SANDERS, BERNARD         |P60007168|C00583708|PROGRESS WV                                                                    |\n",
      "|SANDERS, BERNARD         |P60007168|C00587766|SILVER CITY NM FOR BERNIE SANDERS                                              |\n",
      "|SANDERS, BERNARD         |P60007168|C00588434|ROCHESTER FOR PROGRESS                                                         |\n",
      "|SANDERS, BERNARD         |P60007168|C00588707|ITHACA AND TOMPKINS COUNTY FOR BERNIE SANDERS                                  |\n",
      "|SANDERS, BERNARD         |P60007168|C00589937|PROGRESSGJ                                                                     |\n",
      "|SANDERS, BERNARD         |P60007168|C00590240|NORTHEAST MUSICIANS FOR SOCIAL DEMOCRACY                                       |\n",
      "|SANDERS, BERNARD         |P60007168|C00590620|LAS CRUCES FOR BERNIE                                                          |\n",
      "|SANDERS, BERNARD         |P60007168|C00590646|NEW YORK CAPITAL REGION FOR BRINGING ECONOMIC REVOLUTION NOW INSPIRING EVERYONE|\n",
      "|SANDERS, BERNARD         |P60007168|C00590828|UPPER VALLEY FOR BERNIE SANDERS                                                |\n",
      "|CRUZ, RAFAEL EDWARD \"TED\"|P60006111|C00612119|CRUZ INFO PRESIDENT                                                            |\n",
      "|SANDERS, BERNARD         |P60007168|C00612549|LORAIN COUNTY FORWARD                                                          |\n",
      "+-------------------------+---------+---------+-------------------------------------------------------------------------------+\n",
      "\n"
     ]
    }
   ],
   "source": [
    "linked_committees = sql.sql(\"\"\"\n",
    "SELECT S1.CAND_NAME,S1.CAND_ID,S2.CMTE_ID,S2.CMTE_NM\n",
    "FROM Question_one AS S1, com AS S2\n",
    "WHERE S1.CAND_ID = S2.CAND_ID\n",
    "\"\"\")\n",
    "# TODO\n",
    "q4 = linked_committees.select(\"CAND_NAME\", \"CAND_ID\", \"CMTE_ID\", \"CMTE_NM\")\n",
    "q4.show(truncate=False)"
   ]
  },
  {
   "cell_type": "markdown",
   "metadata": {},
   "source": [
    "**Q4 Expected Output:**\n",
    "```\n",
    "+-------------------------+---------+---------+-------------------------------------------------------------------------------+\n",
    "|CAND_NAME                |CAND_ID  |CMTE_ID  |CMTE_NM                                                                        |\n",
    "+-------------------------+---------+---------+-------------------------------------------------------------------------------+\n",
    "|CLINTON, HILLARY RODHAM  |P00003392|C00577395|PEOPLE IN COMMAND/PIC                                                          |\n",
    "|SANDERS, BERNARD         |P60007168|C00590646|NEW YORK CAPITAL REGION FOR BRINGING ECONOMIC REVOLUTION NOW INSPIRING EVERYONE|\n",
    "|SANDERS, BERNARD         |P60007168|C00612549|LORAIN COUNTY FORWARD                                                          |\n",
    "|CLINTON, HILLARY RODHAM  |P00003392|C00575795|HILLARY FOR AMERICA                                                            |\n",
    "|SANDERS, BERNARD         |P60007168|C00587766|SILVER CITY NM FOR BERNIE SANDERS                                              |\n",
    "|SANDERS, BERNARD         |P60007168|C00588707|ITHACA AND TOMPKINS COUNTY FOR BERNIE SANDERS                                  |\n",
    "|SANDERS, BERNARD         |P60007168|C00589937|PROGRESSGJ                                                                     |\n",
    "|SANDERS, BERNARD         |P60007168|C00588434|ROCHESTER FOR PROGRESS                                                         |\n",
    "|SANDERS, BERNARD         |P60007168|C00577130|BERNIE 2016                                                                    |\n",
    "|CRUZ, RAFAEL EDWARD \"TED\"|P60006111|C00574624|CRUZ FOR PRESIDENT                                                             |\n",
    "|SANDERS, BERNARD         |P60007168|C00590828|UPPER VALLEY FOR BERNIE SANDERS                                                |\n",
    "|CRUZ, RAFAEL EDWARD \"TED\"|P60006111|C00612119|CRUZ INFO PRESIDENT                                                            |\n",
    "|SANDERS, BERNARD         |P60007168|C00583708|PROGRESS WV                                                                    |\n",
    "|SANDERS, BERNARD         |P60007168|C00582395|UPSTATE NEW YORK FOR BERNIE SANDERS                                            |\n",
    "|SANDERS, BERNARD         |P60007168|C00590620|LAS CRUCES FOR BERNIE                                                          |\n",
    "|CLINTON, HILLARY RODHAM  |P00003392|C00570978|FUTURE OF AMERICAN LIVES MATTER                                                |\n",
    "|TRUMP, DONALD J          |P80001571|C00580100|DONALD J. TRUMP FOR PRESIDENT, INC.                                            |\n",
    "|SANDERS, BERNARD         |P60007168|C00590240|NORTHEAST MUSICIANS FOR SOCIAL DEMOCRACY                                       |\n",
    "+-------------------------+---------+---------+-------------------------------------------------------------------------------+\n",
    "```"
   ]
  },
  {
   "cell_type": "markdown",
   "metadata": {},
   "source": [
    "Q5."
   ]
  },
  {
   "cell_type": "code",
   "execution_count": 19,
   "metadata": {},
   "outputs": [
    {
     "name": "stdout",
     "output_type": "stream",
     "text": [
      "+-------------------------+-----+\n",
      "|CAND_NAME                |count|\n",
      "+-------------------------+-----+\n",
      "|CLINTON, HILLARY RODHAM  |2561 |\n",
      "|SANDERS, BERNARD         |1577 |\n",
      "|TRUMP, DONALD J          |333  |\n",
      "|CRUZ, RAFAEL EDWARD \"TED\"|643  |\n",
      "+-------------------------+-----+\n",
      "\n"
     ]
    }
   ],
   "source": [
    "num_com_contributions = sql.sql(\"\"\"\n",
    "SELECT Question_one.CAND_NAME,COUNT(pas.CMTE_ID) as count\n",
    "FROM Question_one,pas\n",
    "WHERE Question_one.CAND_ID = pas.CAND_ID\n",
    "GROUP BY CAND_NAME\n",
    "\"\"\")\n",
    "# TODO\n",
    "q5 = num_com_contributions.select(\"CAND_NAME\", \"count\")\n",
    "q5.show(truncate=False)"
   ]
  },
  {
   "cell_type": "markdown",
   "metadata": {},
   "source": [
    "**Q5 Expected Output:**\n",
    "\n",
    "```\n",
    "+-------------------------+-----+\n",
    "|CAND_NAME                |count|\n",
    "+-------------------------+-----+\n",
    "|CLINTON, HILLARY RODHAM  |2561 |\n",
    "|SANDERS, BERNARD         |1577 |\n",
    "|TRUMP, DONALD J          |333  |\n",
    "|CRUZ, RAFAEL EDWARD \"TED\"|643  |\n",
    "+-------------------------+-----+\n",
    "```"
   ]
  },
  {
   "cell_type": "markdown",
   "metadata": {
    "collapsed": true
   },
   "source": [
    "Q6."
   ]
  },
  {
   "cell_type": "code",
   "execution_count": 20,
   "metadata": {},
   "outputs": [
    {
     "name": "stdout",
     "output_type": "stream",
     "text": [
      "+-------------------------+--------------------+\n",
      "|CAND_NAME                |sum(TRANSACTION_AMT)|\n",
      "+-------------------------+--------------------+\n",
      "|CLINTON, HILLARY RODHAM  |6064499.0           |\n",
      "|SANDERS, BERNARD         |1202034.0           |\n",
      "|TRUMP, DONALD J          |6099777.0           |\n",
      "|CRUZ, RAFAEL EDWARD \"TED\"|1.2145601E7         |\n",
      "+-------------------------+--------------------+\n",
      "\n"
     ]
    }
   ],
   "source": [
    "com_contributions_amt = sql.sql(\"\"\"\n",
    "SELECT S1.CAND_NAME,SUM(TRANSACTION_AMT) AS sum\n",
    "FROM Question_one AS S1,pas AS S2\n",
    "WHERE S1.CAND_ID = S2.CAND_ID\n",
    "GROUP BY S1.CAND_NAME\n",
    "\"\"\").withColumnRenamed(\"sum\",\"sum(TRANSACTION_AMT)\")\n",
    "# TODO\n",
    "\n",
    "# We will also accept a solution in either format.\n",
    "# Be sure to comment out the one you don't use: \n",
    "# q6 = com_contributions_amt.select(\"CAND_NAME\", \"SUM\")\n",
    "q6 = com_contributions_amt.select(\"CAND_NAME\", \"sum(TRANSACTION_AMT)\")\n",
    "q6.show(truncate=False)"
   ]
  },
  {
   "cell_type": "markdown",
   "metadata": {},
   "source": [
    "**Q6 Expected Output:**\n",
    "\n",
    "```\n",
    "+-------------------------+--------------------+\n",
    "|CAND_NAME                |sum(TRANSACTION_AMT)|\n",
    "+-------------------------+--------------------+\n",
    "|CLINTON, HILLARY RODHAM  |6064499.0           |\n",
    "|SANDERS, BERNARD         |1202034.0           |\n",
    "|TRUMP, DONALD J          |6099777.0           |\n",
    "|CRUZ, RAFAEL EDWARD \"TED\"|1.2145601E7         |\n",
    "+-------------------------+--------------------+\n",
    "```"
   ]
  },
  {
   "cell_type": "markdown",
   "metadata": {},
   "source": [
    "### End Student Code Here"
   ]
  },
  {
   "cell_type": "markdown",
   "metadata": {},
   "source": [
    "# 2. K-means Clustering"
   ]
  },
  {
   "cell_type": "markdown",
   "metadata": {
    "collapsed": true
   },
   "source": [
    "## Use Dataframe API to load some Toy Data"
   ]
  },
  {
   "cell_type": "markdown",
   "metadata": {},
   "source": [
    "Load a parquet file as a DataFrame."
   ]
  },
  {
   "cell_type": "code",
   "execution_count": 21,
   "metadata": {
    "collapsed": true
   },
   "outputs": [],
   "source": [
    "df = sql.read.parquet(\"toy_data\")"
   ]
  },
  {
   "cell_type": "markdown",
   "metadata": {},
   "source": [
    "Let's look at a few records:"
   ]
  },
  {
   "cell_type": "code",
   "execution_count": 22,
   "metadata": {},
   "outputs": [
    {
     "name": "stdout",
     "output_type": "stream",
     "text": [
      "+----------+----------+\n",
      "|         x|         y|\n",
      "+----------+----------+\n",
      "| 2.5455968|-2.4678698|\n",
      "|  5.393343| 2.0226636|\n",
      "|-2.6967278|   6.04135|\n",
      "| 3.2742562| -4.329741|\n",
      "|-2.8346312|  -5.55185|\n",
      "|-6.8219104| -6.216632|\n",
      "| 5.0789514| -5.723718|\n",
      "|-4.4893827| -4.817831|\n",
      "| -8.568877| 7.4704356|\n",
      "| 3.7725136|  9.647934|\n",
      "| 4.3655133| 3.8768165|\n",
      "|  6.376908|-5.4031186|\n",
      "|-2.5573678| 1.1811672|\n",
      "| -4.261156|-6.8115454|\n",
      "|  5.919376|  5.560924|\n",
      "| -8.474529| -6.686147|\n",
      "|  5.281597| 3.2823496|\n",
      "|  6.865725| 2.0507808|\n",
      "|   5.62337| -5.642469|\n",
      "|  8.332024|-7.2829323|\n",
      "+----------+----------+\n",
      "only showing top 20 rows\n",
      "\n"
     ]
    }
   ],
   "source": [
    "df.show()"
   ]
  },
  {
   "cell_type": "markdown",
   "metadata": {},
   "source": [
    "## Plotting the Toy Data"
   ]
  },
  {
   "cell_type": "markdown",
   "metadata": {},
   "source": [
    "We'll first plot a sample of some toy data. Let's collect a sample of records,"
   ]
  },
  {
   "cell_type": "code",
   "execution_count": 23,
   "metadata": {
    "collapsed": true
   },
   "outputs": [],
   "source": [
    "sample = df.sample(False, 0.2)"
   ]
  },
  {
   "cell_type": "markdown",
   "metadata": {},
   "source": [
    "project out the `x` and the `y` columns,"
   ]
  },
  {
   "cell_type": "code",
   "execution_count": 24,
   "metadata": {
    "collapsed": true
   },
   "outputs": [],
   "source": [
    "x_sample = sample.select('x').collect()\n",
    "y_sample = sample.select('y').collect()"
   ]
  },
  {
   "cell_type": "markdown",
   "metadata": {},
   "source": [
    "and plot the data."
   ]
  },
  {
   "cell_type": "code",
   "execution_count": 25,
   "metadata": {
    "scrolled": true
   },
   "outputs": [
    {
     "data": {
      "text/plain": [
       "[<matplotlib.lines.Line2D at 0x7fc05654cc50>]"
      ]
     },
     "execution_count": 25,
     "metadata": {},
     "output_type": "execute_result"
    },
    {
     "data": {
      "image/png": "[encoded data removed]",
      "text/plain": [
       "<matplotlib.figure.Figure at 0x7fc05657fb10>"
      ]
     },
     "metadata": {},
     "output_type": "display_data"
    }
   ],
   "source": [
    "plt.figure()\n",
    "plt.axis([-10, 10, -10, 10])\n",
    "plot(x_sample, y_sample, 'bo')"
   ]
  },
  {
   "cell_type": "markdown",
   "metadata": {},
   "source": [
    "## Implementation"
   ]
  },
  {
   "cell_type": "markdown",
   "metadata": {},
   "source": [
    "Implement a distributed version of K-Means clustering using PySpark."
   ]
  },
  {
   "cell_type": "markdown",
   "metadata": {},
   "source": [
    "## 2a. K-Means++ Initialization"
   ]
  },
  {
   "cell_type": "markdown",
   "metadata": {},
   "source": [
    "Initialize the centers using the K-Means++ Algorithm, using Distributed Reservoir Sampling. We've provided you the signatures of a few functions which may be helpful."
   ]
  },
  {
   "cell_type": "markdown",
   "metadata": {},
   "source": [
    "### Begin Student Code Here"
   ]
  },
  {
   "cell_type": "code",
   "execution_count": 144,
   "metadata": {},
   "outputs": [],
   "source": [
    "def initialize_centers_plus(points, k):\n",
    "    \"\"\"\n",
    "    Find k initial cluster centers using distributed weighted reservoir sampling.\n",
    "    \n",
    "    Inputs:\n",
    "    points: a collection of d-dimensional points (x_1, x_2, ..., x_d).\n",
    "    k: the number of cluster centers wanted\n",
    "    \n",
    "    Output:\n",
    "    A list of k points which become the initial centers in K-means clustering\n",
    "    \"\"\"\n",
    "    \n",
    "    \n",
    "    # Choose first center uniformly at random\n",
    "    #first we should replace point with a map\n",
    "    points = points.map(lambda x: x)\n",
    "    #take the centers randomly\n",
    "    centers = points.takeSample(True,1)\n",
    "    #centers.append(points.takeSample(False,1,seed=0)[0])\n",
    "    \n",
    "    for _ in range(1, k):\n",
    "        # Compute distances of each point to its nearest center, and\n",
    "        #new_center = points.mapPartitions(distances).mapPartitions(choose_partition_center).reduce(pick_between_centers)\n",
    "        new_center = points.map(lambda point: (point, nearest_center(centers, point)[1] ** 2)).mapPartitions(choose_partition_center).reduce(pick_between_centers)\n",
    "        \n",
    "        centers.append(new_center[0])\n",
    "        \n",
    "    return centers"
   ]
  },
  {
   "cell_type": "code",
   "execution_count": 145,
   "metadata": {
    "collapsed": true
   },
   "outputs": [],
   "source": [
    "def choose_partition_center(points_partition_iterator):\n",
    "    \"\"\"\n",
    "    Choose a single center from a SINGLE PARTITION, using weighted random sampling.\n",
    "    \n",
    "    Inputs:\n",
    "    points_partition_iterator: an iterator through a partition of D-dimensional points\n",
    "    \n",
    "    Output:\n",
    "    (As an iterator) A 2-tuple, containing the randomly-chosen center and its weighted random-sampling key\n",
    "    \"\"\"\n",
    "    center = None\n",
    "    key = None\n",
    "    # TODO\n",
    "    #first we should traverse all the points \n",
    "    for point,weight in points_partition_iterator:\n",
    "        tmp_key = 0\n",
    "        if weight != 0:\n",
    "            tmp_key = np.random.uniform(0,1,size=1)[0] ** (float(1)/(weight ** 2))\n",
    "        if key == None or tmp_key > key :\n",
    "            center = point\n",
    "            key = tmp_key \n",
    "    yield (center, key)"
   ]
  },
  {
   "cell_type": "code",
   "execution_count": 146,
   "metadata": {
    "collapsed": true
   },
   "outputs": [],
   "source": [
    "def pick_between_centers(candidate_center_1, candidate_center_2):\n",
    "    \"\"\"\n",
    "    Between two centers from different partitions, pick the one with a larger key.\n",
    "    \n",
    "    Inputs:\n",
    "    candidate_center_1: a 2-tuple, containing the randomly-chosen center and its weighted random sampling key \n",
    "                        from the first partition\n",
    "    candidate_center_2: a 2-tuple, containing the randomly-chosen center and its weighted random sampling key \n",
    "                        from the first partition\n",
    "    \n",
    "    Output:\n",
    "    A 2-tuple, containing the \"better\" center and its weighted random-sampling key\n",
    "    \"\"\"\n",
    "    better_center = None\n",
    "    if candidate_center_1[1] >= candidate_center_2[1]:\n",
    "        better_center = candidate_center_1\n",
    "    else:\n",
    "        better_center = candidate_center_2\n",
    "    \n",
    "    \n",
    "    return better_center"
   ]
  },
  {
   "cell_type": "code",
   "execution_count": 147,
   "metadata": {
    "collapsed": true
   },
   "outputs": [],
   "source": [
    "def nearest_center(centers, point):\n",
    "    \"\"\"\n",
    "    Given a point and a list of centers (also points), determine the center closest to that point,\n",
    "    and compute the distance to that point.\n",
    "    \n",
    "    Inputs:\n",
    "    centers: a list of points which represent the current centers\n",
    "    point: the point to examine\n",
    "    \n",
    "    Outputs:\n",
    "    A 2-tuple, containing the index of the closest center (point) and its distance from point\n",
    "    \"\"\"\n",
    "    (index, shortest_distance) = (None, None)\n",
    "    # TODO\n",
    "    all_distance = np.linalg.norm(np.subtract(centers,point),axis=1)\n",
    "   # shortest_distance = np.amin(all_distance)\n",
    "    index = np.argmin(all_distance)\n",
    "    shortest_distance = all_distance[index]\n",
    "    \n",
    "    return (index, shortest_distance)"
   ]
  },
  {
   "cell_type": "markdown",
   "metadata": {},
   "source": [
    "### End Student Code Here"
   ]
  },
  {
   "cell_type": "markdown",
   "metadata": {},
   "source": [
    "## Plotting the centers"
   ]
  },
  {
   "cell_type": "markdown",
   "metadata": {},
   "source": [
    "Let's see how our initialization algorithm performs. How do your centers look? Are they too close to each other?"
   ]
  },
  {
   "cell_type": "code",
   "execution_count": 148,
   "metadata": {},
   "outputs": [
    {
     "name": "stdout",
     "output_type": "stream",
     "text": [
      "[Row(x=-7.234499931335449, y=-5.999726295471191), Row(x=5.287578105926514, y=7.796891689300537), Row(x=-7.9223127365112305, y=5.01663064956665), Row(x=7.327786445617676, y=-3.469661235809326)]\n"
     ]
    },
    {
     "data": {
      "text/plain": [
       "[<matplotlib.lines.Line2D at 0x7fc043a584d0>]"
      ]
     },
     "execution_count": 148,
     "metadata": {},
     "output_type": "execute_result"
    },
    {
     "data": {
      "image/png": "[encoded data removed]",
      "text/plain": [
       "<matplotlib.figure.Figure at 0x7fc056211750>"
      ]
     },
     "metadata": {},
     "output_type": "display_data"
    }
   ],
   "source": [
    "num_centers = 4\n",
    "centers = initialize_centers_plus(df, num_centers)\n",
    "print centers \n",
    "\n",
    "plt.figure()\n",
    "plt.axis([-10, 10, -10, 10])\n",
    "plot(x_sample, y_sample, 'bo')\n",
    "centers = np.asarray(centers)\n",
    "plt.plot(centers[:,0], centers[:,1], 'mo', markersize = 10)"
   ]
  },
  {
   "cell_type": "markdown",
   "metadata": {},
   "source": [
    "## 2b. Main Loop"
   ]
  },
  {
   "cell_type": "markdown",
   "metadata": {},
   "source": [
    "Now, implement the main loop in K-means clustering. Again, we've provided you the signatures of some functions which may be useful."
   ]
  },
  {
   "cell_type": "markdown",
   "metadata": {},
   "source": [
    "Note: The statistics of a new center \"mean\" is given by:\n",
    "$$\n",
    "\\bar{x}_k = \\frac{1}{n_k} \\sum_{x \\in \\text{Cluster}[k]}^{n_i} x\n",
    "$$\n",
    "So the only statistics we require are $n_k$ the number of elements in cluster $k$ and $\\sum_{x \\in \\text{Cluster}[k]}^{n_i} x$ the sum of the elements in cluster $k$."
   ]
  },
  {
   "cell_type": "markdown",
   "metadata": {},
   "source": [
    "### Begin Student Code Here"
   ]
  },
  {
   "cell_type": "code",
   "execution_count": 149,
   "metadata": {},
   "outputs": [],
   "source": [
    "def k_means(points,\n",
    "            k = num_centers,\n",
    "            initial_centers = None,\n",
    "            max_iterations = 100,\n",
    "            initializer = initialize_centers_plus,\n",
    "            epsilon = 0.001):\n",
    "    \"\"\"\n",
    "    Executes the K-means algorithm on a collection of points.\n",
    "    \n",
    "    Inputs:\n",
    "    points: a collection of d-dimensional points (x_1, x_2, ..., x_d).\n",
    "    k: the number of cluster centers wanted\n",
    "    initial_centers: if supplied, skips the initialization phase and uses points from this value\n",
    "    max_iterations: the maximum number of main-loop iterations to run\n",
    "    initializer: a function which selects initial centers (if none supplied)\n",
    "    epsilon: the threshhold at which convergence is reached and the algorithm halted\n",
    "    \n",
    "    Output:\n",
    "    A list of k candidate cluster centers\n",
    "    \"\"\"\n",
    "    #always first convert the points to the map\n",
    "    points.map(lambda x: x)\n",
    "    # speeds up rerunning\n",
    "    points.cache()\n",
    "    \n",
    "    old_centers = None\n",
    "    new_centers = None\n",
    "    if initial_centers: # we were provided initial centers to use\n",
    "        new_centers = initial_centers\n",
    "    else: # we need to initialize the centers ourselves\n",
    "        # TODO\n",
    "        new_centers = initializer(points,k)\n",
    "        \n",
    "    iteration = 0\n",
    "    while not has_converged(old_centers, new_centers, epsilon) and iteration < max_iterations:\n",
    "        # update centers\n",
    "        # TODO\n",
    "        old_centers = new_centers\n",
    "        #now we should compute the new center statistics\n",
    "        #new_statistics = points.mapPartitions(lambda iter: compute_new_center_statistics(iter,old_centers)).reduce(add_statistics)\n",
    "        #counts = new_statistics[0]\n",
    "        #sums = new_statistics[1]\n",
    "        new_centers = [np.zeros(len(old_centers[0])) for i in range(k)]\n",
    "        new_stats = points.mapPartitions(lambda iterate: compute_new_center_statistics(iterate, old_centers)).reduce(add_statistics)\n",
    "        i = 0\n",
    "        while i < k:\n",
    "            new_centers[i] = new_stats[1][i] / new_stats[0][i]\n",
    "            i = i + 1\n",
    "        iteration += 1\n",
    "        \n",
    "    return new_centers"
   ]
  },
  {
   "cell_type": "code",
   "execution_count": 150,
   "metadata": {
    "collapsed": true
   },
   "outputs": [],
   "source": [
    "def compute_new_center_statistics(iterator, old_centers):\n",
    "    \"\"\"\n",
    "    Given an iterator over points and a list of old centers, compute the statistics for the new center.\n",
    "    \n",
    "    Input:\n",
    "    iterator: an iterator over points\n",
    "    old_centers: a list of centers (points) from the previous iteration\n",
    "    \n",
    "    Output:\n",
    "    A 2-tuple (counts, sums) consisting of:\n",
    "     - counts: an array of length k containing the count of points in each new center\n",
    "     - sums: a k by d array consisting of sum of the points assigned to each center\n",
    "     \n",
    "    Note that from the tuple you could compute the ith new center:\n",
    "      sums[i] / counts[i]\n",
    "    \"\"\"\n",
    "    # Get the shape of the old centers\n",
    "    k = len(old_centers)\n",
    "    d = len(old_centers[0])\n",
    "    \n",
    "    # Initialize the sums\n",
    "    # TODO\n",
    "    counts = np.zeros(k)\n",
    "    sums = np.zeros([k,d])\n",
    "    \n",
    "    # Loop over the data and compute the new assignments\n",
    "    # TODO\n",
    "    for point in iterator:\n",
    "        # Compute the nearest center (you just implemented this!)\n",
    "        # TODO\n",
    "        index = nearest_center(old_centers,point)[0]\n",
    "        # Update the sums and counts\n",
    "        # TODO\n",
    "        counts[index] = counts[index] + 1\n",
    "        sums[index] = sums[index] + point\n",
    "\n",
    "    yield (counts, sums)"
   ]
  },
  {
   "cell_type": "code",
   "execution_count": 151,
   "metadata": {
    "collapsed": true
   },
   "outputs": [],
   "source": [
    "def add_statistics(stats_1, stats_2):\n",
    "    \"\"\"\n",
    "    Given statistics from two partitions, add those statistics.\n",
    "    \"\"\"\n",
    "    stats = (None, None)\n",
    "    # Compute stats_1 + stats_2\n",
    "    # TODO\n",
    "    stats = (stats_1[0] + stats_2[0],stats_1[1] + stats_2[1])\n",
    "    return stats"
   ]
  },
  {
   "cell_type": "markdown",
   "metadata": {},
   "source": [
    "### End Student Code Here"
   ]
  },
  {
   "cell_type": "code",
   "execution_count": 152,
   "metadata": {
    "collapsed": true
   },
   "outputs": [],
   "source": [
    "def has_converged(old_centers, new_centers, epsilon):\n",
    "    \"\"\"\n",
    "    Test if the distance between the centers is less than epsilon.\n",
    "    \"\"\"\n",
    "    return (old_centers is not None) and (new_centers is not None) and \\\n",
    "        np.linalg.norm(np.asarray(old_centers) - np.asarray(new_centers), ord=2) < epsilon"
   ]
  },
  {
   "cell_type": "markdown",
   "metadata": {},
   "source": [
    "## Plotting Clusters"
   ]
  },
  {
   "cell_type": "markdown",
   "metadata": {},
   "source": [
    "How does your code perform? Are these good clusters?"
   ]
  },
  {
   "cell_type": "code",
   "execution_count": 153,
   "metadata": {
    "collapsed": true
   },
   "outputs": [],
   "source": [
    "colors = ['ro', 'bo', 'go', 'yo'] # for now just use 4 colors\n",
    "\n",
    "def plot_clusters(centers, plt):\n",
    "    for i in range(num_centers):\n",
    "        cluster = df.rdd.filter(lambda x: nearest_center(centers, x)[0] == i)\n",
    "        cluster_sample = np.asarray(cluster.sample(False, 0.2).collect())\n",
    "        plt.plot(cluster_sample[:,0], cluster_sample[:,1], colors[i])\n",
    "    "
   ]
  },
  {
   "cell_type": "code",
   "execution_count": 154,
   "metadata": {},
   "outputs": [
    {
     "data": {
      "text/plain": [
       "[<matplotlib.lines.Line2D at 0x7fc05023e410>]"
      ]
     },
     "execution_count": 154,
     "metadata": {},
     "output_type": "execute_result"
    },
    {
     "data": {
      "image/png": "[encoded data removed]",
      "text/plain": [
       "<matplotlib.figure.Figure at 0x7fc04368c090>"
      ]
     },
     "metadata": {},
     "output_type": "display_data"
    }
   ],
   "source": [
    "plt.figure()\n",
    "plt.axis([-10, 10, -10, 10])\n",
    "\n",
    "centers = k_means(df, num_centers)\n",
    "plot_clusters(centers, plt)\n",
    "\n",
    "centers = np.asarray(centers)\n",
    "plt.plot(centers[:,0], centers[:,1], 'mo', markersize = 10)\n"
   ]
  },
  {
   "cell_type": "markdown",
   "metadata": {},
   "source": [
    "# 3. Geographical Contribution Clustering"
   ]
  },
  {
   "cell_type": "markdown",
   "metadata": {},
   "source": [
    "Let's put everything together! First we'll load the required data files."
   ]
  },
  {
   "cell_type": "code",
   "execution_count": 155,
   "metadata": {
    "collapsed": true
   },
   "outputs": [],
   "source": [
    "zip_codes = sql.read.parquet(\"zip_codes\")"
   ]
  },
  {
   "cell_type": "markdown",
   "metadata": {},
   "source": [
    "Now we'll grab the relevant data we need. We'll join the table of front runners we collected earlier with their contributors' zip codes to get latitudinal and longitudinal data..."
   ]
  },
  {
   "cell_type": "code",
   "execution_count": 156,
   "metadata": {
    "collapsed": true
   },
   "outputs": [],
   "source": [
    "contrib_zips = \\\n",
    "    front_runners.join(indv, front_runners.CAND_PCC == indv.CMTE_ID) \\\n",
    "    .select(\"CAND_NAME\", \"CAND_ID\", \"ZIP_CODE\")\n",
    "contrib_zips = contrib_zips.withColumn(\"SHORT_ZIP\", contrib_zips.ZIP_CODE.substr(0,5))"
   ]
  },
  {
   "cell_type": "code",
   "execution_count": 157,
   "metadata": {
    "collapsed": true
   },
   "outputs": [],
   "source": [
    "contrib_locs = \\\n",
    "    contrib_zips.join(zip_codes, contrib_zips.SHORT_ZIP == zip_codes.zip) \\\n",
    "    .select(\"CAND_NAME\", \"latitude\", \"longitude\").cache()"
   ]
  },
  {
   "cell_type": "code",
   "execution_count": 158,
   "metadata": {},
   "outputs": [
    {
     "data": {
      "text/plain": [
       "[u'CLINTON, HILLARY RODHAM',\n",
       " u'SANDERS, BERNARD',\n",
       " u'TRUMP, DONALD J',\n",
       " u'CRUZ, RAFAEL EDWARD \"TED\"']"
      ]
     },
     "execution_count": 158,
     "metadata": {},
     "output_type": "execute_result"
    }
   ],
   "source": [
    "candidate_names = [x[0] for x in contrib_locs.select(\"CAND_NAME\").distinct().collect()]\n",
    "candidate_names"
   ]
  },
  {
   "cell_type": "code",
   "execution_count": 159,
   "metadata": {
    "collapsed": true
   },
   "outputs": [],
   "source": [
    "X = {}\n",
    "for candidate in candidate_names:\n",
    "    X[candidate] = contrib_locs.where(contrib_locs.CAND_NAME == candidate) \\\n",
    "        .select(\"latitude\", \"longitude\") \\\n",
    "        .map(lambda r: np.array([x for x in r])) \\\n",
    "        .coalesce(sc.defaultParallelism).cache()"
   ]
  },
  {
   "cell_type": "markdown",
   "metadata": {},
   "source": [
    "...which will allow us to plot these locations."
   ]
  },
  {
   "cell_type": "code",
   "execution_count": 160,
   "metadata": {
    "collapsed": true
   },
   "outputs": [],
   "source": [
    "maps = {}\n",
    "for candidate in X:\n",
    "    maps[candidate] = folium.Map(location=[40, -100],\n",
    "           tiles='Stamen Toner',\n",
    "           zoom_start=4)\n",
    "    locs = X[candidate].sample(False, 0.01).collect()\n",
    "    for l in locs:\n",
    "        folium.Marker(l).add_to(maps[candidate])"
   ]
  },
  {
   "cell_type": "code",
   "execution_count": 161,
   "metadata": {},
   "outputs": [
    {
     "data": {
      "text/html": [
       "<div style=\"width:100%;\"><div style=\"position:relative;width:100%;height:0;padding-bottom:60%;\"><iframe src=\"data:text/html;charset=utf-8;base64,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\" style=\"position:absolute;width:100%;height:100%;left:0;top:0;border:none !important;\" allowfullscreen webkitallowfullscreen mozallowfullscreen></iframe></div></div>"
      ],
      "text/plain": [
       "<folium.folium.Map at 0x7fc043b7d290>"
      ]
     },
     "execution_count": 161,
     "metadata": {},
     "output_type": "execute_result"
    }
   ],
   "source": [
    "maps[u'CRUZ, RAFAEL EDWARD \"TED\"']"
   ]
  },
  {
   "cell_type": "markdown",
   "metadata": {},
   "source": [
    "We can run k-means for each candidate. What's a good value for $k$? Run the K-means algorithm you developed earlier with different values of $k$ to determine the best one."
   ]
  },
  {
   "cell_type": "markdown",
   "metadata": {},
   "source": [
    "### Begin Student Code Here"
   ]
  },
  {
   "cell_type": "code",
   "execution_count": 162,
   "metadata": {
    "collapsed": true
   },
   "outputs": [],
   "source": [
    "def compute_errors(candidate_locations, k_range):\n",
    "    def reduction(a, b):\n",
    "            return a + b\n",
    "    errors = {}\n",
    "    for c in candidate_locations:\n",
    "        errors[c] = []\n",
    "        for k in k_range:\n",
    "            # For each candidate, test multiple values of k\n",
    "            centers = k_means(candidate_locations[c],k)\n",
    "            #all_distance = (candidate_locations[c]).mapPartitions(distances).reduce(add_statistics)\n",
    "            #current_error = all_distance[1] / all_distance[0]\n",
    "            all_distance = candidate_locations[c].map(lambda x: nearest_center(centers, x)[1]).reduce(reduction)\n",
    "            current_error = all_distance / candidate_locations[c].count()\n",
    "            errors[c].append(current_error)\n",
    "    return errors"
   ]
  },
  {
   "cell_type": "code",
   "execution_count": 164,
   "metadata": {},
   "outputs": [
    {
     "data": {
      "image/png": "[encoded data removed]",
      "text/plain": [
       "<matplotlib.figure.Figure at 0x7fc04372a090>"
      ]
     },
     "metadata": {},
     "output_type": "display_data"
    }
   ],
   "source": [
    "plt.figure()\n",
    "plt.axis([0, 30, 0, 20])\n",
    "k_range = range(2, 32, 2)\n",
    "errors = compute_errors(X, k_range)\n",
    "for c in errors:\n",
    "    plot(k_range, errors[c])"
   ]
  },
  {
   "cell_type": "markdown",
   "metadata": {
    "collapsed": true
   },
   "source": [
    "Now that you've found a suitable value for k, run K-means to compute the desired clusters."
   ]
  },
  {
   "cell_type": "code",
   "execution_count": 165,
   "metadata": {
    "collapsed": true
   },
   "outputs": [],
   "source": [
    "centers = {}\n",
    "k = 9 # TODO enter the value you found here\n",
    "for c in X:\n",
    "    # Find the cluster centers for each candidate\n",
    "    # TODO\n",
    "    centers[c] = k_means(X[c],k)"
   ]
  },
  {
   "cell_type": "markdown",
   "metadata": {},
   "source": [
    "### End Student Code Here"
   ]
  },
  {
   "cell_type": "markdown",
   "metadata": {},
   "source": [
    "At last, we have the clusters we want. Here's a nifty visualization."
   ]
  },
  {
   "cell_type": "code",
   "execution_count": 166,
   "metadata": {},
   "outputs": [
    {
     "data": {
      "text/html": [
       "<div style=\"width:100%;\"><div style=\"position:relative;width:100%;height:0;padding-bottom:60%;\"><iframe src=\"data:text/html;charset=utf-8;base64,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\" style=\"position:absolute;width:100%;height:100%;left:0;top:0;border:none !important;\" allowfullscreen webkitallowfullscreen mozallowfullscreen></iframe></div></div>"
      ],
      "text/plain": [
       "<folium.folium.Map at 0x7fc0432a4510>"
      ]
     },
     "execution_count": 166,
     "metadata": {},
     "output_type": "execute_result"
    }
   ],
   "source": [
    "colors = dict(zip(centers.keys(), ['blue', 'green','orange', 'red']))\n",
    "centers_map = folium.Map(location=[40, -100],\n",
    "                         zoom_start=4)\n",
    "for candidate in centers: \n",
    "    locs = centers[candidate]\n",
    "    for l in locs:\n",
    "        folium.Marker(l,\n",
    "                      popup=str(l),\n",
    "                      icon=folium.Icon(color=colors[candidate])).add_to(centers_map)\n",
    "centers_map"
   ]
  },
  {
   "cell_type": "markdown",
   "metadata": {},
   "source": [
    "Congratulations! You've successfully implemented a scalable machine learning algorithm on dataset of campaign finance contributions!"
   ]
  }
 ],
 "metadata": {
  "celltoolbar": "Raw Cell Format",
  "kernelspec": {
   "display_name": "Python 2",
   "language": "python",
   "name": "python2"
  },
  "language_info": {
   "codemirror_mode": {
    "name": "ipython",
    "version": 2
   },
   "file_extension": ".py",
   "mimetype": "text/x-python",
   "name": "python",
   "nbconvert_exporter": "python",
   "pygments_lexer": "ipython2",
   "version": "2.7.6"
  }
 },
 "nbformat": 4,
 "nbformat_minor": 1
}
